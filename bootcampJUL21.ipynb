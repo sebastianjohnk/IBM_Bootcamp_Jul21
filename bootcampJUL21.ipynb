{
 "cells": [
  {
   "cell_type": "code",
   "execution_count": 1,
   "id": "3f747574-b6a9-40b1-86a3-2304b9a4d959",
   "metadata": {},
   "outputs": [
    {
     "name": "stdout",
     "output_type": "stream",
     "text": [
      "20 10 IBM\n"
     ]
    }
   ],
   "source": [
    "a,b,c=\"20\", 10, 'IBM'\n",
    "print(a,b,c)"
   ]
  },
  {
   "cell_type": "markdown",
   "id": "650a308f-45dc-43e9-b75d-32fe12b32892",
   "metadata": {},
   "source": [
    "## Slicing of strings"
   ]
  },
  {
   "cell_type": "code",
   "execution_count": 10,
   "id": "a2a1cfd7-0cdc-4289-8245-196ee8957a6b",
   "metadata": {},
   "outputs": [
    {
     "name": "stdout",
     "output_type": "stream",
     "text": [
      "Batch2\n"
     ]
    }
   ],
   "source": [
    "str='IBM Batch2'\n",
    "print( str[str.index(' ')+1:])"
   ]
  },
  {
   "cell_type": "markdown",
   "id": "3967ac74-c841-42c7-a518-3afb6af229ed",
   "metadata": {},
   "source": [
    "## Print even numbers from 20 to 0"
   ]
  },
  {
   "cell_type": "code",
   "execution_count": 24,
   "id": "e8830723-2706-4d51-923b-698435a20d95",
   "metadata": {},
   "outputs": [
    {
     "name": "stdout",
     "output_type": "stream",
     "text": [
      "20\n",
      "18\n",
      "16\n",
      "14\n",
      "12\n",
      "10\n",
      "8\n",
      "6\n",
      "4\n",
      "2\n",
      "0\n"
     ]
    }
   ],
   "source": [
    "for i in range(20,-1,-2):\n",
    "    print(i)"
   ]
  },
  {
   "cell_type": "markdown",
   "id": "4437b362-611d-4491-9a73-8754d839bcbe",
   "metadata": {},
   "source": [
    "# break\n"
   ]
  },
  {
   "cell_type": "code",
   "execution_count": 66,
   "id": "37a4fabc-a295-4e56-932f-835a044fc525",
   "metadata": {},
   "outputs": [
    {
     "name": "stdout",
     "output_type": "stream",
     "text": [
      "0\n",
      "2\n"
     ]
    }
   ],
   "source": [
    "for i in range(0,20,2):\n",
    "    if i==4:\n",
    "        break\n",
    "    print(i)"
   ]
  },
  {
   "cell_type": "markdown",
   "id": "ee16563a-5ac6-4179-b5e8-f228db521760",
   "metadata": {},
   "source": [
    "# continue"
   ]
  },
  {
   "cell_type": "code",
   "execution_count": 23,
   "id": "ee2bb6d1-7dc6-453e-80c2-c398d31322ba",
   "metadata": {},
   "outputs": [
    {
     "name": "stdout",
     "output_type": "stream",
     "text": [
      "0\n",
      "2\n",
      "6\n",
      "8\n",
      "10\n",
      "12\n",
      "14\n",
      "16\n",
      "18\n"
     ]
    }
   ],
   "source": [
    "for i in range(0,20,2):\n",
    "    if i==4:\n",
    "        continue\n",
    "    print(i)"
   ]
  },
  {
   "cell_type": "markdown",
   "id": "205efe8f-a5c2-4cf8-9551-47ef3286c34c",
   "metadata": {},
   "source": [
    "### Write a program to make a calculator using python"
   ]
  },
  {
   "cell_type": "code",
   "execution_count": 27,
   "id": "7748fdae-3494-446e-bb1d-fa1254c497f7",
   "metadata": {},
   "outputs": [
    {
     "name": "stdout",
     "output_type": "stream",
     "text": [
      "Enter two numbers\n"
     ]
    },
    {
     "name": "stdin",
     "output_type": "stream",
     "text": [
      " 6\n",
      " 0\n"
     ]
    },
    {
     "name": "stdout",
     "output_type": "stream",
     "text": [
      "Enter operation +, -, *, /\n"
     ]
    },
    {
     "name": "stdin",
     "output_type": "stream",
     "text": [
      " /\n"
     ]
    },
    {
     "name": "stdout",
     "output_type": "stream",
     "text": [
      "Division by 0 is not possible\n",
      "Result= 0\n"
     ]
    }
   ],
   "source": [
    "print(\"Enter two numbers\")\n",
    "a=int(input())\n",
    "b=int(input())\n",
    "print('Enter operation +, -, *, /')\n",
    "o=input()\n",
    "r=0\n",
    "if (o=='+'):\n",
    "    r=a+b\n",
    "elif (o=='-'):\n",
    "    r=a-b\n",
    "elif (o=='*'):\n",
    "    r=a*b\n",
    "elif (o=='/'):\n",
    "    if b!=0:\n",
    "        r=a//b\n",
    "    else:\n",
    "        print('Division by 0 is not possible')\n",
    "else:\n",
    "    print('Invalid operator')\n",
    "\n",
    "print('Result=' , r)\n"
   ]
  },
  {
   "cell_type": "markdown",
   "id": "1d8620dd-28a2-44d1-a659-d67abe056e89",
   "metadata": {},
   "source": [
    "# List\n"
   ]
  },
  {
   "cell_type": "code",
   "execution_count": 43,
   "id": "aa5a8750-38ff-49e8-b5d0-d96c9083bd16",
   "metadata": {},
   "outputs": [
    {
     "name": "stdout",
     "output_type": "stream",
     "text": [
      "['p', 1, -9, 8.5, 'Hello']\n",
      "Type : <class 'list'>\n",
      "Length : 5\n",
      "Element at index 2 : -9\n",
      "Empty list : []\n",
      "Element at -1 : Hello\n",
      "Element at -2 : 8.5\n"
     ]
    }
   ],
   "source": [
    "li=['p',1,-9,8.5,'Hello']\n",
    "print(li)\n",
    "print('Type :',type(li))\n",
    "print('Length :',len(li))\n",
    "\n",
    "#print an element using index\n",
    "print('Element at index 2 :', li[2])\n",
    "\n",
    "#create empty list\n",
    "list2=list()\n",
    "print('Empty list :',list2)\n",
    "\n",
    "#negative indexing\n",
    "print('Element at -1 :',li[-1])\n",
    "print('Element at -2 :',li[-2])"
   ]
  },
  {
   "cell_type": "markdown",
   "id": "7821737e-f799-4650-8811-1cb37a6875d4",
   "metadata": {},
   "source": [
    "## in keyword"
   ]
  },
  {
   "cell_type": "code",
   "execution_count": 44,
   "id": "dd8dc143-3520-48b6-9c6d-2523ecb50ead",
   "metadata": {},
   "outputs": [
    {
     "name": "stdout",
     "output_type": "stream",
     "text": [
      "yes\n"
     ]
    }
   ],
   "source": [
    "# check whether an element is there in a list\n",
    "list1=['My', 'name', 'is', 'Divya' ,'and', 'I', 'work', 'at', 'IBM']\n",
    "if 'and' in list1:\n",
    "    print('yes')\n",
    "else:\n",
    "    print('no')"
   ]
  },
  {
   "cell_type": "markdown",
   "id": "52b67ec7-0d55-4df5-b5ba-ee1e940b8f72",
   "metadata": {},
   "source": [
    "## insert()\n"
   ]
  },
  {
   "cell_type": "code",
   "execution_count": 45,
   "id": "550636bb-a7d2-4f14-93e4-ac5a7ef5aa42",
   "metadata": {},
   "outputs": [
    {
     "name": "stdout",
     "output_type": "stream",
     "text": [
      "List : ['p', 1, -9, 8.5, 'Hello']\n",
      "New List : ['p', 1, 'Blah', -9, 8.5, 'Hello']\n"
     ]
    }
   ],
   "source": [
    "li=['p',1,-9,8.5,'Hello']\n",
    "print('List :', li)\n",
    "li.insert(2, 'Blah')\n",
    "print('New List :', li)"
   ]
  },
  {
   "cell_type": "markdown",
   "id": "9d4efd77-0ec9-4dd2-8eb5-78ba2abcb7b0",
   "metadata": {},
   "source": [
    "# append() and extend()"
   ]
  },
  {
   "cell_type": "code",
   "execution_count": 49,
   "id": "99a120b1-adaa-4c79-aa32-43c0563d1b35",
   "metadata": {},
   "outputs": [
    {
     "name": "stdout",
     "output_type": "stream",
     "text": [
      "append function demo : ['p', 1, 'Blah', -9, 8.5, 'Hello', 'apple', 'orange', 'cherry', 'end']\n",
      "extend() demo, li  : ['p', 1, 'Blah', -9, 8.5, 'Hello', 'apple', 'orange', 'cherry', 'end', 'apple', 'orange', 'cherry']\n",
      "li2 : ['apple', 'orange', 'cherry']\n"
     ]
    }
   ],
   "source": [
    "li.append('end')\n",
    "print('append function demo :',li)\n",
    "\n",
    "li2=['apple','orange', 'cherry']\n",
    "\n",
    "li.extend(li2)\n",
    "print('extend() demo, li  :',li)\n",
    "print('li2 :',li2)"
   ]
  },
  {
   "cell_type": "markdown",
   "id": "e3a8a62b-f3ac-4922-a8c0-9ea8c816971a",
   "metadata": {},
   "source": [
    "## remove()"
   ]
  },
  {
   "cell_type": "code",
   "execution_count": 50,
   "id": "b8d22b23-c5bf-4777-a900-0cae596c52b4",
   "metadata": {},
   "outputs": [
    {
     "name": "stdout",
     "output_type": "stream",
     "text": [
      "Current li : ['p', 1, 'Blah', -9, 8.5, 'Hello', 'apple', 'orange', 'cherry', 'end', 'apple', 'orange', 'cherry']\n",
      "remove() demo : ['p', 1, 'Blah', -9, 8.5, 'Hello', 'apple', 'orange', 'cherry', 'apple', 'orange', 'cherry']\n"
     ]
    }
   ],
   "source": [
    "print('Current li :', li)\n",
    "li.remove('end')\n",
    "print('remove() demo :',li)"
   ]
  },
  {
   "cell_type": "code",
   "execution_count": 54,
   "id": "ddef64ae-9c0a-4086-8918-6093287592e5",
   "metadata": {},
   "outputs": [
    {
     "name": "stdout",
     "output_type": "stream",
     "text": [
      "['Hello']\n"
     ]
    }
   ],
   "source": [
    "li=['p',1,-9,8.5,'Hello']\n",
    "new_list=[]\n",
    "for i in li:\n",
    "    if i=='Hello':\n",
    "        new_list.append(i)\n",
    "        \n",
    "print(new_list)"
   ]
  },
  {
   "cell_type": "markdown",
   "id": "696af861-6e8b-4ed0-b784-4b066c66f0d7",
   "metadata": {},
   "source": [
    "## List comprehension"
   ]
  },
  {
   "cell_type": "code",
   "execution_count": 55,
   "id": "d5f67b05-8107-4605-8f20-c50ffa34ce8b",
   "metadata": {},
   "outputs": [
    {
     "name": "stdout",
     "output_type": "stream",
     "text": [
      "[0, 1, 2, 3, 4]\n"
     ]
    }
   ],
   "source": [
    "new_list=[i for i in range(5)]\n",
    "print(new_list)"
   ]
  },
  {
   "cell_type": "markdown",
   "id": "89c0033e-bbea-46de-bc85-eea651c96fa1",
   "metadata": {},
   "source": [
    "## Tuples"
   ]
  },
  {
   "cell_type": "code",
   "execution_count": 65,
   "id": "f9def52b-a4fe-45ec-9170-7d604dba7de3",
   "metadata": {},
   "outputs": [
    {
     "name": "stdout",
     "output_type": "stream",
     "text": [
      "Empty tuple : ()\n",
      "tuple2 : ('g', 3, -4, 6.2, 'bonk', 'IBM', 'Divya', -4, 6.2, 'bonk', -4, 6.2, 'bonk', -4, 6.2, 'bonk')\n",
      "Type : <class 'tuple'> <class 'tuple'>\n",
      "Tuple to list demo : ['g', 3, -4, 6.2, 'bonk', 'IBM', 'Divya', -4, 6.2, 'bonk', -4, 6.2, 'bonk', -4, 6.2, 'bonk']\n",
      "number of time 6.2 is present : 4\n",
      "Index of 3 : 1\n"
     ]
    }
   ],
   "source": [
    "#empty tuple\n",
    "tuple1=tuple()\n",
    "tuple2=('g',3,-4,6.2,'bonk','IBM','Divya',-4,6.2,'bonk',-4,6.2,'bonk',-4,6.2,'bonk')\n",
    "print('Empty tuple :',tuple1)\n",
    "print('tuple2 :', tuple2)\n",
    "print('Type :', type(tuple1),type(tuple2))\n",
    "\n",
    "#convert tuple ti list\n",
    "print( \"Tuple to list demo :\" ,list(tuple2))\n",
    "\n",
    "#delete the tuple using del keyword\n",
    "del tuple1\n",
    "\n",
    "#count keyword gives the number of times an element occurs\n",
    "print('number of time 6.2 is present :',tuple2.count(6.2))\n",
    "\n",
    "#index gives the index of an element\n",
    "print('Index of 3 :',tuple2.index(3))\n",
    "      "
   ]
  }
 ],
 "metadata": {
  "kernelspec": {
   "display_name": "Python 3 (ipykernel)",
   "language": "python",
   "name": "python3"
  },
  "language_info": {
   "codemirror_mode": {
    "name": "ipython",
    "version": 3
   },
   "file_extension": ".py",
   "mimetype": "text/x-python",
   "name": "python",
   "nbconvert_exporter": "python",
   "pygments_lexer": "ipython3",
   "version": "3.9.12"
  }
 },
 "nbformat": 4,
 "nbformat_minor": 5
}
