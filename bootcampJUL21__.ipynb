{
 "cells": [
  {
   "cell_type": "markdown",
   "id": "cfc07668-118b-4701-b344-d365631357dc",
   "metadata": {
    "tags": []
   },
   "source": [
    "## Sets"
   ]
  },
  {
   "cell_type": "raw",
   "id": "970cc5a0-2cc2-4c64-8375-786012274146",
   "metadata": {},
   "source": [
    "Sets are also immutable like tuples"
   ]
  },
  {
   "cell_type": "code",
   "execution_count": 1,
   "id": "db19a976-94ab-4505-8ef4-8768464dcd40",
   "metadata": {},
   "outputs": [
    {
     "name": "stdout",
     "output_type": "stream",
     "text": [
      "Empty set : set()\n",
      "Set2 : {1, 2, 3, 4}\n",
      "Length of set2: 4\n",
      "Set3 : {1, 2, 3, 4, 5, 6}\n",
      "Elements in set2 :\n",
      "1 2 3 4 \n",
      "True\n"
     ]
    }
   ],
   "source": [
    "#empty set\n",
    "set1=set()\n",
    "\n",
    "print('Empty set :',set1)\n",
    "\n",
    "set2={1,1,1,1,1,1,1,2,2,2,2,2,4,4,4,4,4,3,3,3,3,3}\n",
    "\n",
    "print('Set2 :',set2)\n",
    "print('Length of set2:',len(set2))\n",
    "\n",
    "#create a set with set()\n",
    "set3=set((1,1,1,2,2,3,4,5,6,6,))\n",
    "print('Set3 :',set3)\n",
    "\n",
    "#indexing\n",
    "#we cannot use index()\n",
    "#iterarte through all elements using for loop\n",
    "print('Elements in set2 :')\n",
    "for i in set2:\n",
    "    print(i, end=' ')\n",
    "    \n",
    "print()    \n",
    "print(1 in set3)"
   ]
  },
  {
   "cell_type": "markdown",
   "id": "59577956-e6a9-414e-a115-a1e1042b6435",
   "metadata": {},
   "source": [
    "## Functions of set"
   ]
  },
  {
   "cell_type": "code",
   "execution_count": 2,
   "id": "900dd035-28c3-4961-8572-7baa7d6fe4ba",
   "metadata": {},
   "outputs": [
    {
     "name": "stdout",
     "output_type": "stream",
     "text": [
      "set3 : {1, 2, 3, 4, 5, 6}\n",
      "set3 : set()\n"
     ]
    }
   ],
   "source": [
    "set1.add('IBM')\n",
    "# set1.push()\n",
    "# set2.pop()\n",
    "\n",
    "# use clear to empty the set\n",
    "print('set3 :',set3)\n",
    "set3.clear()\n",
    "print('set3 :',set3)"
   ]
  },
  {
   "cell_type": "markdown",
   "id": "a41448c5-3539-4ab0-8642-48d00f834b8e",
   "metadata": {},
   "source": [
    "## Dictionary"
   ]
  },
  {
   "cell_type": "code",
   "execution_count": 3,
   "id": "dc18b960-e431-41b6-ade4-bec610f61e93",
   "metadata": {},
   "outputs": [
    {
     "name": "stdout",
     "output_type": "stream",
     "text": [
      "Dictionary : {1: 'Divya', 'blah2': 'IBM', 3: 'CET'}\n",
      "Length of dict1 : 3\n",
      "Find the value at index blah2 : IBM\n",
      "Repeated key value demo : pickle\n",
      "Length of dict2 : 3\n"
     ]
    }
   ],
   "source": [
    "dict1={ 1:'Divya','blah2':'IBM',3:'CET'}\n",
    "\n",
    "print('Dictionary :',dict1)\n",
    "print('Length of dict1 :',len(dict1))\n",
    "\n",
    "#indexing is done using keys\n",
    "print('Find the value at index blah2 :', dict1['blah2'])\n",
    "\n",
    "#if there is repetition of one key the value of the last key will be taken\n",
    "dict2={ 1:'Divya','blah2':'IBM',3:'CET',3:'pickle'}\n",
    "print('Repeated key value demo :',dict2[3])\n",
    "\n",
    "#the repeated key is not counted while taking length\n",
    "print('Length of dict2 :',len(dict2))\n",
    "\n"
   ]
  },
  {
   "cell_type": "markdown",
   "id": "862bd808-dca0-48b8-a63a-d099992b220e",
   "metadata": {},
   "source": [
    "## Dictionary functions"
   ]
  },
  {
   "cell_type": "code",
   "execution_count": 4,
   "id": "198c3f7b-aa1c-4d90-b103-2f34db03283b",
   "metadata": {},
   "outputs": [
    {
     "name": "stdout",
     "output_type": "stream",
     "text": [
      "get() demo : Divya\n",
      "keys() demo : dict_keys([1, 'blah2', 3])\n",
      "values() demo : dict_values(['Divya', 'IBM', 'pickle'])\n",
      "items() demo : dict_items([(1, 'Divya'), ('blah2', 'IBM'), (3, 'pickle')])\n",
      "true\n"
     ]
    }
   ],
   "source": [
    "#get() function\n",
    "print('get() demo :',dict1.get(1))\n",
    "\n",
    "#to get all keys in the dict use keys()\n",
    "print('keys() demo :',dict2.keys())\n",
    "\n",
    "#to get all values in the dict use keys()\n",
    "print('values() demo :',dict2.values())\n",
    "\n",
    "#to get all items as tuples in the dict use keys()\n",
    "print('items() demo :',dict2.items())\n",
    "\n",
    "#check if a key is in the dictionary\n",
    "if 'blah2' in dict2:\n",
    "    print('true')"
   ]
  },
  {
   "cell_type": "markdown",
   "id": "b8db6dbe-a057-4d03-9cec-70cf433c1910",
   "metadata": {},
   "source": [
    "## Nested Dictionary"
   ]
  },
  {
   "cell_type": "code",
   "execution_count": 5,
   "id": "2fd2159e-1d67-42a5-8d9b-fad0b34aa48f",
   "metadata": {},
   "outputs": [
    {
     "name": "stdout",
     "output_type": "stream",
     "text": [
      "Indexing in nested dictionary demo : Divya\n"
     ]
    }
   ],
   "source": [
    "dict3={'Employee1':{'name':'Divya','ID':'3','Place':'TVM'},\n",
    "       'Employee2':{'name':'blah','ID':'4','Place':'place2'},\n",
    "       'Employee3':{'name':'blah3','ID':'5','Place':'place3'},}\n",
    "\n",
    "print('Indexing in nested dictionary demo :',dict3['Employee1']['name'])"
   ]
  },
  {
   "cell_type": "markdown",
   "id": "b7b91120-073f-456c-a717-fba2752987d8",
   "metadata": {},
   "source": [
    "## Lambda function"
   ]
  },
  {
   "cell_type": "code",
   "execution_count": 6,
   "id": "c5b78589-0138-4f4c-8883-82a62ab52499",
   "metadata": {},
   "outputs": [
    {
     "name": "stdout",
     "output_type": "stream",
     "text": [
      "25\n"
     ]
    }
   ],
   "source": [
    "# find the square of a number\n",
    "square = lambda x: x**2\n",
    "print(square(5))"
   ]
  }
 ],
 "metadata": {
  "kernelspec": {
   "display_name": "Python 3 (ipykernel)",
   "language": "python",
   "name": "python3"
  },
  "language_info": {
   "codemirror_mode": {
    "name": "ipython",
    "version": 3
   },
   "file_extension": ".py",
   "mimetype": "text/x-python",
   "name": "python",
   "nbconvert_exporter": "python",
   "pygments_lexer": "ipython3",
   "version": "3.9.12"
  }
 },
 "nbformat": 4,
 "nbformat_minor": 5
}
